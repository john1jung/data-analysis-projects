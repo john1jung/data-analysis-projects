{
 "cells": [
  {
   "cell_type": "markdown",
   "id": "2f470e67-1623-4416-b9c2-8367f7834a26",
   "metadata": {},
   "source": [
    "# Exploratory Data Analysis with pandas Studio\n",
    "\n",
    "## Data Analysis of IMDB movies data\n",
    "\n",
    "#### Blocks have been created for your code\n",
    "\n",
    "#### Click on the following link and download the dataset from [Kaggle](https://www.kaggle.com/PromptCloudHQ/imdb-data)."
   ]
  },
  {
   "cell_type": "markdown",
   "id": "34632281-1e15-44b1-a3e3-b82ddacb5cbd",
   "metadata": {},
   "source": [
    "### 1. Read data"
   ]
  },
  {
   "cell_type": "code",
   "execution_count": 18,
   "id": "070ebed9-c948-4821-9a24-67f0e3fe8fce",
   "metadata": {},
   "outputs": [],
   "source": [
    "# import pandas\n",
    "import pandas as pd\n",
    "\n",
    "# create your data variabe using .read_csv \n",
    "movies_csv = pd.read_csv('IMDB-Movie-Data.csv')\n",
    "#movies_csv = pd.read_csv(r\"C:\\Users\\Path\\file.csv\")\n",
    "# create your data_indexed variable here\n",
    "data_indexed = movies_csv"
   ]
  },
  {
   "cell_type": "code",
   "execution_count": 19,
   "id": "608c357a-271b-49c1-9b96-68b5c1cb7046",
   "metadata": {},
   "outputs": [],
   "source": [
    "# If you are having trouble reading your file, try finding the path.  \n",
    "    # Right click on your data set, on the pop-up menu select \"Copy Path\" then paste it into your read_csv() function."
   ]
  },
  {
   "cell_type": "code",
   "execution_count": 28,
   "id": "5d8b578c-750c-491b-98d5-140a237ad940",
   "metadata": {},
   "outputs": [
    {
     "name": "stdout",
     "output_type": "stream",
     "text": [
      "   Rank          Title                     Genre  \\\n",
      "1     2     Prometheus  Adventure,Mystery,Sci-Fi   \n",
      "2     3          Split           Horror,Thriller   \n",
      "3     4           Sing   Animation,Comedy,Family   \n",
      "4     5  Suicide Squad  Action,Adventure,Fantasy   \n",
      "\n",
      "                                         Description              Director  \\\n",
      "1  Following clues to the origin of mankind, a te...          Ridley Scott   \n",
      "2  Three girls are kidnapped by a man with a diag...    M. Night Shyamalan   \n",
      "3  In a city of humanoid animals, a hustling thea...  Christophe Lourdelet   \n",
      "4  A secret government agency recruits some of th...            David Ayer   \n",
      "\n",
      "                                              Actors  Year  Runtime (Minutes)  \\\n",
      "1  Noomi Rapace, Logan Marshall-Green, Michael Fa...  2012                124   \n",
      "2  James McAvoy, Anya Taylor-Joy, Haley Lu Richar...  2016                117   \n",
      "3  Matthew McConaughey,Reese Witherspoon, Seth Ma...  2016                108   \n",
      "4  Will Smith, Jared Leto, Margot Robbie, Viola D...  2016                123   \n",
      "\n",
      "   Rating   Votes  Revenue (Millions)  Metascore  \n",
      "1     7.0  485820              126.46       65.0  \n",
      "2     7.3  157606              138.12       62.0  \n",
      "3     7.2   60545              270.32       59.0  \n",
      "4     6.2  393727              325.02       40.0  \n"
     ]
    }
   ],
   "source": [
    "# Read data with specified explicit index\n",
    "\n",
    "print(data_indexed[1:9])"
   ]
  },
  {
   "cell_type": "markdown",
   "id": "f449d3ea-91fe-45f5-8d6b-e6ccab3502d7",
   "metadata": {
    "tags": []
   },
   "source": [
    "### 2. View Data\n",
    "#### As we go through this section, write your own definitions of what each function does as a comment in the code box."
   ]
  },
  {
   "cell_type": "code",
   "execution_count": 41,
   "id": "ac9b2d61-7ed5-4e83-995d-c498036f37f9",
   "metadata": {},
   "outputs": [
    {
     "name": "stdout",
     "output_type": "stream",
     "text": [
      "   Rank                    Title                     Genre  \\\n",
      "0     1  Guardians of the Galaxy   Action,Adventure,Sci-Fi   \n",
      "1     2               Prometheus  Adventure,Mystery,Sci-Fi   \n",
      "2     3                    Split           Horror,Thriller   \n",
      "3     4                     Sing   Animation,Comedy,Family   \n",
      "4     5            Suicide Squad  Action,Adventure,Fantasy   \n",
      "5     6           The Great Wall  Action,Adventure,Fantasy   \n",
      "6     7               La La Land        Comedy,Drama,Music   \n",
      "7     8                 Mindhorn                    Comedy   \n",
      "\n",
      "                                         Description              Director  \\\n",
      "0  A group of intergalactic criminals are forced ...            James Gunn   \n",
      "1  Following clues to the origin of mankind, a te...          Ridley Scott   \n",
      "2  Three girls are kidnapped by a man with a diag...    M. Night Shyamalan   \n",
      "3  In a city of humanoid animals, a hustling thea...  Christophe Lourdelet   \n",
      "4  A secret government agency recruits some of th...            David Ayer   \n",
      "5  European mercenaries searching for black powde...           Yimou Zhang   \n",
      "6  A jazz pianist falls for an aspiring actress i...       Damien Chazelle   \n",
      "7  A has-been actor best known for playing the ti...            Sean Foley   \n",
      "\n",
      "                                              Actors  Year  Runtime (Minutes)  \\\n",
      "0  Chris Pratt, Vin Diesel, Bradley Cooper, Zoe S...  2014                121   \n",
      "1  Noomi Rapace, Logan Marshall-Green, Michael Fa...  2012                124   \n",
      "2  James McAvoy, Anya Taylor-Joy, Haley Lu Richar...  2016                117   \n",
      "3  Matthew McConaughey,Reese Witherspoon, Seth Ma...  2016                108   \n",
      "4  Will Smith, Jared Leto, Margot Robbie, Viola D...  2016                123   \n",
      "5      Matt Damon, Tian Jing, Willem Dafoe, Andy Lau  2016                103   \n",
      "6  Ryan Gosling, Emma Stone, Rosemarie DeWitt, J....  2016                128   \n",
      "7  Essie Davis, Andrea Riseborough, Julian Barrat...  2016                 89   \n",
      "\n",
      "   Rating   Votes  Revenue (Millions)  Metascore  \n",
      "0     8.1  757074              333.13       76.0  \n",
      "1     7.0  485820              126.46       65.0  \n",
      "2     7.3  157606              138.12       62.0  \n",
      "3     7.2   60545              270.32       59.0  \n",
      "4     6.2  393727              325.02       40.0  \n",
      "5     6.1   56036               45.13       42.0  \n",
      "6     8.3  258682              151.06       93.0  \n",
      "7     6.4    2490                 NaN       71.0  \n"
     ]
    }
   ],
   "source": [
    "# Use the head() function to view the first 5 rows of the data set\n",
    "data_indexed1 = movies_csv.head(8)\n",
    "print(data_indexed1)"
   ]
  },
  {
   "cell_type": "markdown",
   "id": "e03bbc57-a8cf-48da-9057-3b1f6b642a08",
   "metadata": {},
   "source": [
    "### 3. Understand basic information about the data\n",
    "#### As we go through this section, write your own definitions of what each function does as a comment in the code box."
   ]
  },
  {
   "cell_type": "code",
   "execution_count": 42,
   "id": "3fffca4b-90f4-4f73-a9af-f0b02886f8b3",
   "metadata": {},
   "outputs": [
    {
     "name": "stdout",
     "output_type": "stream",
     "text": [
      "     Rank                     Title                    Genre  \\\n",
      "991   992          Taare Zameen Par       Drama,Family,Music   \n",
      "992   993      Take Me Home Tonight     Comedy,Drama,Romance   \n",
      "993   994  Resident Evil: Afterlife  Action,Adventure,Horror   \n",
      "994   995                 Project X                   Comedy   \n",
      "995   996      Secret in Their Eyes      Crime,Drama,Mystery   \n",
      "996   997           Hostel: Part II                   Horror   \n",
      "997   998    Step Up 2: The Streets      Drama,Music,Romance   \n",
      "998   999              Search Party         Adventure,Comedy   \n",
      "999  1000                Nine Lives    Comedy,Family,Fantasy   \n",
      "\n",
      "                                           Description            Director  \\\n",
      "991  An eight-year-old boy is thought to be a lazy ...          Aamir Khan   \n",
      "992  Four years after graduation, an awkward high s...       Michael Dowse   \n",
      "993  While still out to destroy the evil Umbrella C...  Paul W.S. Anderson   \n",
      "994  3 high school seniors throw a birthday party t...     Nima Nourizadeh   \n",
      "995  A tight-knit team of rising investigators, alo...           Billy Ray   \n",
      "996  Three American college students studying abroa...            Eli Roth   \n",
      "997  Romantic sparks occur between two dance studen...          Jon M. Chu   \n",
      "998  A pair of friends embark on a mission to reuni...      Scot Armstrong   \n",
      "999  A stuffy businessman finds himself trapped ins...    Barry Sonnenfeld   \n",
      "\n",
      "                                                Actors  Year  \\\n",
      "991  Darsheel Safary, Aamir Khan, Tanay Chheda, Sac...  2007   \n",
      "992  Topher Grace, Anna Faris, Dan Fogler, Teresa P...  2011   \n",
      "993  Milla Jovovich, Ali Larter, Wentworth Miller,K...  2010   \n",
      "994  Thomas Mann, Oliver Cooper, Jonathan Daniel Br...  2012   \n",
      "995  Chiwetel Ejiofor, Nicole Kidman, Julia Roberts...  2015   \n",
      "996  Lauren German, Heather Matarazzo, Bijou Philli...  2007   \n",
      "997  Robert Hoffman, Briana Evigan, Cassie Ventura,...  2008   \n",
      "998  Adam Pally, T.J. Miller, Thomas Middleditch,Sh...  2014   \n",
      "999  Kevin Spacey, Jennifer Garner, Robbie Amell,Ch...  2016   \n",
      "\n",
      "     Runtime (Minutes)  Rating   Votes  Revenue (Millions)  Metascore  \n",
      "991                165     8.5  102697                1.20       42.0  \n",
      "992                 97     6.3   45419                6.92        NaN  \n",
      "993                 97     5.9  140900               60.13       37.0  \n",
      "994                 88     6.7  164088               54.72       48.0  \n",
      "995                111     6.2   27585                 NaN       45.0  \n",
      "996                 94     5.5   73152               17.54       46.0  \n",
      "997                 98     6.2   70699               58.01       50.0  \n",
      "998                 93     5.6    4881                 NaN       22.0  \n",
      "999                 87     5.3   12435               19.64       11.0  \n"
     ]
    }
   ],
   "source": [
    "# Use the tail() function to view the last 5 rows of the data set\n",
    "data_indexed2 = movies_csv.tail(9)\n",
    "print(data_indexed2)"
   ]
  },
  {
   "cell_type": "code",
   "execution_count": 45,
   "id": "f303e7fb-0e02-48e2-8390-66eefca899aa",
   "metadata": {},
   "outputs": [
    {
     "name": "stdout",
     "output_type": "stream",
     "text": [
      "<class 'pandas.core.frame.DataFrame'>\n",
      "RangeIndex: 5 entries, 0 to 4\n",
      "Data columns (total 12 columns):\n",
      " #   Column              Non-Null Count  Dtype  \n",
      "---  ------              --------------  -----  \n",
      " 0   Rank                5 non-null      int64  \n",
      " 1   Title               5 non-null      object \n",
      " 2   Genre               5 non-null      object \n",
      " 3   Description         5 non-null      object \n",
      " 4   Director            5 non-null      object \n",
      " 5   Actors              5 non-null      object \n",
      " 6   Year                5 non-null      int64  \n",
      " 7   Runtime (Minutes)   5 non-null      int64  \n",
      " 8   Rating              5 non-null      float64\n",
      " 9   Votes               5 non-null      int64  \n",
      " 10  Revenue (Millions)  5 non-null      float64\n",
      " 11  Metascore           5 non-null      float64\n",
      "dtypes: float64(3), int64(4), object(5)\n",
      "memory usage: 612.0+ bytes\n",
      "None\n"
     ]
    }
   ],
   "source": [
    "# The info() - \tPrints a concise summary of a DataFrame, including column data types and non-null values. - function: \n",
    "print(data_indexed.info())\n"
   ]
  },
  {
   "cell_type": "code",
   "execution_count": 46,
   "id": "ade5ce1f-7a2a-4940-a0f9-eed7891154ff",
   "metadata": {},
   "outputs": [
    {
     "name": "stdout",
     "output_type": "stream",
     "text": [
      "(1000, 12)\n"
     ]
    }
   ],
   "source": [
    "# shape - dimensions of a dataframe:\n",
    "print(movies_csv.shape)\n",
    "\n",
    "# what information does shape provide?  what is the order?"
   ]
  },
  {
   "cell_type": "code",
   "execution_count": 47,
   "id": "791db782-5041-4259-a3e4-d14c6e2e248a",
   "metadata": {},
   "outputs": [
    {
     "name": "stdout",
     "output_type": "stream",
     "text": [
      "Index(['Rank', 'Title', 'Genre', 'Description', 'Director', 'Actors', 'Year',\n",
      "       'Runtime (Minutes)', 'Rating', 'Votes', 'Revenue (Millions)',\n",
      "       'Metascore'],\n",
      "      dtype='object')\n"
     ]
    }
   ],
   "source": [
    "# columns:\n",
    "print(movies_csv.columns)\n",
    "\n",
    "# what information does columns provide?"
   ]
  },
  {
   "cell_type": "code",
   "execution_count": 48,
   "id": "994c8783-3f4b-4f56-b9fb-1b50193f1fab",
   "metadata": {},
   "outputs": [
    {
     "name": "stdout",
     "output_type": "stream",
     "text": [
      "              Rank         Year  Runtime (Minutes)       Rating         Votes  \\\n",
      "count  1000.000000  1000.000000        1000.000000  1000.000000  1.000000e+03   \n",
      "mean    500.500000  2012.783000         113.172000     6.723200  1.698083e+05   \n",
      "std     288.819436     3.205962          18.810908     0.945429  1.887626e+05   \n",
      "min       1.000000  2006.000000          66.000000     1.900000  6.100000e+01   \n",
      "25%     250.750000  2010.000000         100.000000     6.200000  3.630900e+04   \n",
      "50%     500.500000  2014.000000         111.000000     6.800000  1.107990e+05   \n",
      "75%     750.250000  2016.000000         123.000000     7.400000  2.399098e+05   \n",
      "max    1000.000000  2016.000000         191.000000     9.000000  1.791916e+06   \n",
      "\n",
      "       Revenue (Millions)   Metascore  \n",
      "count          872.000000  936.000000  \n",
      "mean            82.956376   58.985043  \n",
      "std            103.253540   17.194757  \n",
      "min              0.000000   11.000000  \n",
      "25%             13.270000   47.000000  \n",
      "50%             47.985000   59.500000  \n",
      "75%            113.715000   72.000000  \n",
      "max            936.630000  100.000000  \n"
     ]
    }
   ],
   "source": [
    "# The describe() function: \n",
    "print(movies_csv.describe())\n",
    "\n"
   ]
  },
  {
   "cell_type": "markdown",
   "id": "7293ea51-6d32-43ab-8d26-268bdea21de1",
   "metadata": {},
   "source": [
    "### 4. Data Selection -- Indexing and Slicing"
   ]
  },
  {
   "cell_type": "code",
   "execution_count": 58,
   "id": "b3e134af-4ef9-4a9f-9ee1-d507905764e7",
   "metadata": {},
   "outputs": [
    {
     "name": "stdout",
     "output_type": "stream",
     "text": [
      "0       Action,Adventure,Sci-Fi\n",
      "1      Adventure,Mystery,Sci-Fi\n",
      "2               Horror,Thriller\n",
      "3       Animation,Comedy,Family\n",
      "4      Action,Adventure,Fantasy\n",
      "                 ...           \n",
      "995         Crime,Drama,Mystery\n",
      "996                      Horror\n",
      "997         Drama,Music,Romance\n",
      "998            Adventure,Comedy\n",
      "999       Comedy,Family,Fantasy\n",
      "Name: Genre, Length: 1000, dtype: object\n"
     ]
    }
   ],
   "source": [
    "#  Extract data as series\n",
    "# define and print the variable 'genre'\n",
    "print(movies_csv['Genre'])\n"
   ]
  },
  {
   "cell_type": "code",
   "execution_count": 61,
   "id": "33307a39-0656-4598-8489-55bc80a253eb",
   "metadata": {},
   "outputs": [
    {
     "name": "stdout",
     "output_type": "stream",
     "text": [
      "     Rank                    Title                     Genre  \\\n",
      "0       1  Guardians of the Galaxy   Action,Adventure,Sci-Fi   \n",
      "1       2               Prometheus  Adventure,Mystery,Sci-Fi   \n",
      "2       3                    Split           Horror,Thriller   \n",
      "3       4                     Sing   Animation,Comedy,Family   \n",
      "4       5            Suicide Squad  Action,Adventure,Fantasy   \n",
      "..    ...                      ...                       ...   \n",
      "995   996     Secret in Their Eyes       Crime,Drama,Mystery   \n",
      "996   997          Hostel: Part II                    Horror   \n",
      "997   998   Step Up 2: The Streets       Drama,Music,Romance   \n",
      "998   999             Search Party          Adventure,Comedy   \n",
      "999  1000               Nine Lives     Comedy,Family,Fantasy   \n",
      "\n",
      "                                           Description              Director  \\\n",
      "0    A group of intergalactic criminals are forced ...            James Gunn   \n",
      "1    Following clues to the origin of mankind, a te...          Ridley Scott   \n",
      "2    Three girls are kidnapped by a man with a diag...    M. Night Shyamalan   \n",
      "3    In a city of humanoid animals, a hustling thea...  Christophe Lourdelet   \n",
      "4    A secret government agency recruits some of th...            David Ayer   \n",
      "..                                                 ...                   ...   \n",
      "995  A tight-knit team of rising investigators, alo...             Billy Ray   \n",
      "996  Three American college students studying abroa...              Eli Roth   \n",
      "997  Romantic sparks occur between two dance studen...            Jon M. Chu   \n",
      "998  A pair of friends embark on a mission to reuni...        Scot Armstrong   \n",
      "999  A stuffy businessman finds himself trapped ins...      Barry Sonnenfeld   \n",
      "\n",
      "                                                Actors  Year  \\\n",
      "0    Chris Pratt, Vin Diesel, Bradley Cooper, Zoe S...  2014   \n",
      "1    Noomi Rapace, Logan Marshall-Green, Michael Fa...  2012   \n",
      "2    James McAvoy, Anya Taylor-Joy, Haley Lu Richar...  2016   \n",
      "3    Matthew McConaughey,Reese Witherspoon, Seth Ma...  2016   \n",
      "4    Will Smith, Jared Leto, Margot Robbie, Viola D...  2016   \n",
      "..                                                 ...   ...   \n",
      "995  Chiwetel Ejiofor, Nicole Kidman, Julia Roberts...  2015   \n",
      "996  Lauren German, Heather Matarazzo, Bijou Philli...  2007   \n",
      "997  Robert Hoffman, Briana Evigan, Cassie Ventura,...  2008   \n",
      "998  Adam Pally, T.J. Miller, Thomas Middleditch,Sh...  2014   \n",
      "999  Kevin Spacey, Jennifer Garner, Robbie Amell,Ch...  2016   \n",
      "\n",
      "     Runtime (Minutes)  Rating   Votes  Revenue (Millions)  Metascore  \n",
      "0                  121     8.1  757074              333.13       76.0  \n",
      "1                  124     7.0  485820              126.46       65.0  \n",
      "2                  117     7.3  157606              138.12       62.0  \n",
      "3                  108     7.2   60545              270.32       59.0  \n",
      "4                  123     6.2  393727              325.02       40.0  \n",
      "..                 ...     ...     ...                 ...        ...  \n",
      "995                111     6.2   27585                 NaN       45.0  \n",
      "996                 94     5.5   73152               17.54       46.0  \n",
      "997                 98     6.2   70699               58.01       50.0  \n",
      "998                 93     5.6    4881                 NaN       22.0  \n",
      "999                 87     5.3   12435               19.64       11.0  \n",
      "\n",
      "[1000 rows x 12 columns]\n"
     ]
    }
   ],
   "source": [
    "# Extract the data as a dataframe and print it\n",
    "df = pd.DataFrame(movies_csv)\n",
    "print(df)\n"
   ]
  },
  {
   "cell_type": "code",
   "execution_count": 62,
   "id": "0530ffd1-e143-4a7a-a4e2-c2e88de188f9",
   "metadata": {},
   "outputs": [
    {
     "name": "stdout",
     "output_type": "stream",
     "text": [
      "Rank                                                                  4\n",
      "Title                                                              Sing\n",
      "Genre                                           Animation,Comedy,Family\n",
      "Description           In a city of humanoid animals, a hustling thea...\n",
      "Director                                           Christophe Lourdelet\n",
      "Actors                Matthew McConaughey,Reese Witherspoon, Seth Ma...\n",
      "Year                                                               2016\n",
      "Runtime (Minutes)                                                   108\n",
      "Rating                                                              7.2\n",
      "Votes                                                             60545\n",
      "Revenue (Millions)                                               270.32\n",
      "Metascore                                                          59.0\n",
      "Name: 3, dtype: object\n"
     ]
    }
   ],
   "source": [
    "# Extract data using rows\n",
    "\n",
    "# loc function\n",
    "print(df.loc[3])\n"
   ]
  },
  {
   "cell_type": "code",
   "execution_count": 63,
   "id": "7ed5a16d-7302-4c0c-bf9e-0295a8cee090",
   "metadata": {},
   "outputs": [
    {
     "name": "stdout",
     "output_type": "stream",
     "text": [
      "Rank                                                                  6\n",
      "Title                                                    The Great Wall\n",
      "Genre                                          Action,Adventure,Fantasy\n",
      "Description           European mercenaries searching for black powde...\n",
      "Director                                                    Yimou Zhang\n",
      "Actors                    Matt Damon, Tian Jing, Willem Dafoe, Andy Lau\n",
      "Year                                                               2016\n",
      "Runtime (Minutes)                                                   103\n",
      "Rating                                                              6.1\n",
      "Votes                                                             56036\n",
      "Revenue (Millions)                                                45.13\n",
      "Metascore                                                          42.0\n",
      "Name: 5, dtype: object\n"
     ]
    }
   ],
   "source": [
    "# iloc function\n",
    "print(df.iloc[5])\n",
    "\n"
   ]
  },
  {
   "cell_type": "markdown",
   "id": "35d10282-730f-49c3-bca1-55a990811c80",
   "metadata": {},
   "source": [
    "### 5. Data Selection - Based on Conditional Filtering"
   ]
  },
  {
   "cell_type": "code",
   "execution_count": 66,
   "id": "97cac6a1-dd88-4a8c-86e8-514312bf1bb0",
   "metadata": {},
   "outputs": [
    {
     "name": "stdout",
     "output_type": "stream",
     "text": [
      "     Rank                         Title                       Genre  \\\n",
      "24     25  Independence Day: Resurgence     Action,Adventure,Sci-Fi   \n",
      "29     30              Assassin's Creed      Action,Adventure,Drama   \n",
      "79     80                  Ghostbusters       Action,Comedy,Fantasy   \n",
      "115   116        Office Christmas Party                      Comedy   \n",
      "204   205                     Allegiant    Action,Adventure,Mystery   \n",
      "292   293  Neighbors 2: Sorority Rising                      Comedy   \n",
      "296   297     Ice Age: Collision Course  Animation,Adventure,Comedy   \n",
      "424   425             London Has Fallen          Action,Crime,Drama   \n",
      "525   526           Birth of the Dragon      Action,Biography,Drama   \n",
      "531   532                Friend Request             Horror,Thriller   \n",
      "580   581          Kickboxer: Vengeance                      Action   \n",
      "740   741                      The Boss                      Comedy   \n",
      "855   856      Barbershop: The Next Cut                Comedy,Drama   \n",
      "\n",
      "                                           Description          Director  \\\n",
      "24   Two decades after the first Independence Day i...   Roland Emmerich   \n",
      "29   When Callum Lynch explores the memories of his...     Justin Kurzel   \n",
      "79   Following a ghost invasion of Manhattan, paran...         Paul Feig   \n",
      "115  When his uptight CEO sister threatens to shut ...       Josh Gordon   \n",
      "204  After the earth-shattering revelations of Insu...  Robert Schwentke   \n",
      "292  When their new next-door neighbors turn out to...  Nicholas Stoller   \n",
      "296  Manny, Diego, and Sid join up with Buck to fen...    Mike Thurmeier   \n",
      "424  In London for the Prime Minister's funeral, Mi...      Babak Najafi   \n",
      "525  Young, up-and-coming martial artist, Bruce Lee...      George Nolfi   \n",
      "531  When a college student unfriends a mysterious ...   Simon Verhoeven   \n",
      "580         A kick boxer is out to avenge his brother.    John Stockwell   \n",
      "740  A titan of industry is sent to prison after sh...       Ben Falcone   \n",
      "855  As their surrounding community has taken a tur...    Malcolm D. Lee   \n",
      "\n",
      "                                                Actors  Year  \\\n",
      "24   Liam Hemsworth, Jeff Goldblum, Bill Pullman,Ma...  2016   \n",
      "29   Michael Fassbender, Marion Cotillard, Jeremy I...  2016   \n",
      "79   Melissa McCarthy, Kristen Wiig, Kate McKinnon,...  2016   \n",
      "115  Jason Bateman, Olivia Munn, T.J. Miller,Jennif...  2016   \n",
      "204  Shailene Woodley, Theo James, Jeff Daniels,Nao...  2016   \n",
      "292  Seth Rogen, Rose Byrne, Zac Efron, Chloë Grace...  2016   \n",
      "296  Ray Romano, Denis Leary, John Leguizamo, Chris...  2016   \n",
      "424  Gerard Butler, Aaron Eckhart, Morgan Freeman,A...  2016   \n",
      "525  Billy Magnussen, Terry Chen, Teresa Navarro,Va...  2016   \n",
      "531  Alycia Debnam-Carey, William Moseley, Connor P...  2016   \n",
      "580  Dave Bautista, Alain Moussi, Gina Carano, Jean...  2016   \n",
      "740  Melissa McCarthy, Kristen Bell, Peter Dinklage...  2016   \n",
      "855       Ice Cube, Regina Hall, Anthony Anderson, Eve  2016   \n",
      "\n",
      "     Runtime (Minutes)  Rating   Votes  Revenue (Millions)  Metascore  \n",
      "24                 120     5.3  127553              103.14       32.0  \n",
      "29                 115     5.9  112813               54.65       36.0  \n",
      "79                 116     5.3  147717              128.34       60.0  \n",
      "115                105     5.8   30761               54.73       42.0  \n",
      "204                120     5.7   70504               66.00       33.0  \n",
      "292                 92     5.7   76327               55.29       58.0  \n",
      "296                 94     5.7   34523               64.06       34.0  \n",
      "424                 99     5.9  100702               62.40       28.0  \n",
      "525                103     3.9     552               93.05       61.0  \n",
      "531                 92     5.4   12758               64.03       59.0  \n",
      "580                 90     4.9    6809              131.56       37.0  \n",
      "740                 99     5.4   29642               63.03       40.0  \n",
      "855                111     5.9    9993               54.01       67.0  \n"
     ]
    }
   ],
   "source": [
    "# Use the code block to select movies that have been released between 2010-2016, with a rating of less than 6.0, but generated a signifianct (top) revenue.\n",
    "data_select = df[(df['Year'] >= 2016) & (df['Year'] >= 2010) & (df['Rating'] < 6) & (df['Revenue (Millions)'] > 45)]\n",
    "print(data_select)\n"
   ]
  },
  {
   "cell_type": "code",
   "execution_count": 117,
   "id": "f0c045a1-200a-4d58-9b9f-480edb106765",
   "metadata": {},
   "outputs": [],
   "source": [
    "# Note: The article is expecting more than 1 Twilight movie at the time of publishing.  \n",
    "#To find the second Twilight movie, try manipulating the quantile value.  \n",
    "#How specific can you get?"
   ]
  },
  {
   "cell_type": "code",
   "execution_count": null,
   "id": "5f04a46e-5d8e-4bda-a917-945bdc81a9e2",
   "metadata": {},
   "outputs": [],
   "source": []
  }
 ],
 "metadata": {
  "kernelspec": {
   "display_name": "Python 3 (ipykernel)",
   "language": "python",
   "name": "python3"
  },
  "language_info": {
   "codemirror_mode": {
    "name": "ipython",
    "version": 3
   },
   "file_extension": ".py",
   "mimetype": "text/x-python",
   "name": "python",
   "nbconvert_exporter": "python",
   "pygments_lexer": "ipython3",
   "version": "3.12.5"
  }
 },
 "nbformat": 4,
 "nbformat_minor": 5
}
