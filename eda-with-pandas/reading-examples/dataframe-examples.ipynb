{
 "cells": [
  {
   "cell_type": "markdown",
   "id": "1c8ef33a-f610-44b7-9d47-3e9867769c8b",
   "metadata": {},
   "source": [
    "# Creating DataFrames"
   ]
  },
  {
   "cell_type": "markdown",
   "id": "4209f06c-c1ac-43a7-9193-4f56d7c233a4",
   "metadata": {},
   "source": [
    "## Using a Multi-Dimensional List"
   ]
  },
  {
   "cell_type": "code",
   "execution_count": 1,
   "id": "ad698495-7b4c-475e-976a-7384d5fd62dc",
   "metadata": {},
   "outputs": [
    {
     "name": "stdout",
     "output_type": "stream",
     "text": [
      "              0                    1             2            3\n",
      "0  Interstellar  Pride and Prejudice     Inception       Barbie\n",
      "1   Marley & Me         The Proposal  The Guardian  Bridesmaids\n"
     ]
    }
   ],
   "source": [
    "# import pandas\n",
    "import pandas as pd\n",
    "\n",
    "# Create a pandas DataFrame by providing a list of lists\n",
    "movie_list_of_lists = pd.DataFrame([[\"Interstellar\", \"Pride and Prejudice\", \"Inception\", \"Barbie\"],[\"Marley & Me\", \"Two Weeks Notice\", \"The Guardian\", \"Bridesmaids\"]])\n",
    "\n",
    "# Create a pandas Series from a pre-existing list of lists\n",
    "movies_dataframe_data = [[\"Interstellar\", \"Pride and Prejudice\", \"Inception\", \"Barbie\"],[\"Marley & Me\", \"The Proposal\", \"The Guardian\", \"Bridesmaids\"]]\n",
    "\n",
    "dataframe_from_existing_list = pd.DataFrame(movies_dataframe_data)\n",
    "\n",
    "# Adding print statements\n",
    "print(dataframe_from_existing_list)"
   ]
  },
  {
   "cell_type": "markdown",
   "id": "7201c609-920a-422d-9326-265dfcaca2ed",
   "metadata": {},
   "source": [
    "## Using a Dictionary"
   ]
  },
  {
   "cell_type": "code",
   "execution_count": 2,
   "id": "9291f362-8fdb-448e-a1d2-6907ea0a3375",
   "metadata": {},
   "outputs": [
    {
     "ename": "TypeError",
     "evalue": "DataFrame.__init__() got an unexpected keyword argument 'movies'",
     "output_type": "error",
     "traceback": [
      "\u001b[1;31m---------------------------------------------------------------------------\u001b[0m",
      "\u001b[1;31mTypeError\u001b[0m                                 Traceback (most recent call last)",
      "Cell \u001b[1;32mIn[2], line 5\u001b[0m\n\u001b[0;32m      2\u001b[0m \u001b[38;5;28;01mimport\u001b[39;00m \u001b[38;5;21;01mpandas\u001b[39;00m \u001b[38;5;28;01mas\u001b[39;00m \u001b[38;5;21;01mpd\u001b[39;00m\n\u001b[0;32m      4\u001b[0m \u001b[38;5;66;03m# Create a pandas DataFrame by providing a dictionary\u001b[39;00m\n\u001b[1;32m----> 5\u001b[0m movie_dictionary_dataframe \u001b[38;5;241m=\u001b[39m \u001b[43mpd\u001b[49m\u001b[38;5;241;43m.\u001b[39;49m\u001b[43mDataFrame\u001b[49m\u001b[43m(\u001b[49m\u001b[43mmovies\u001b[49m\u001b[43m \u001b[49m\u001b[38;5;241;43m=\u001b[39;49m\u001b[43m \u001b[49m\u001b[43m{\u001b[49m\u001b[38;5;124;43m'\u001b[39;49m\u001b[38;5;124;43mName\u001b[39;49m\u001b[38;5;124;43m'\u001b[39;49m\u001b[43m:\u001b[49m\u001b[43m \u001b[49m\u001b[43m[\u001b[49m\u001b[38;5;124;43m\"\u001b[39;49m\u001b[38;5;124;43mInterstellar\u001b[39;49m\u001b[38;5;124;43m\"\u001b[39;49m\u001b[43m,\u001b[49m\u001b[43m \u001b[49m\u001b[38;5;124;43m\"\u001b[39;49m\u001b[38;5;124;43mPride and Prejudice\u001b[39;49m\u001b[38;5;124;43m\"\u001b[39;49m\u001b[43m,\u001b[49m\u001b[43m \u001b[49m\u001b[38;5;124;43m\"\u001b[39;49m\u001b[38;5;124;43mInception\u001b[39;49m\u001b[38;5;124;43m\"\u001b[39;49m\u001b[43m,\u001b[49m\u001b[43m \u001b[49m\u001b[38;5;124;43m\"\u001b[39;49m\u001b[38;5;124;43mBarbie\u001b[39;49m\u001b[38;5;124;43m\"\u001b[39;49m\u001b[43m]\u001b[49m\u001b[43m,\u001b[49m\u001b[38;5;124;43m'\u001b[39;49m\u001b[38;5;124;43mRelease\u001b[39;49m\u001b[38;5;124;43m'\u001b[39;49m\u001b[43m:\u001b[49m\u001b[43m \u001b[49m\u001b[43m[\u001b[49m\u001b[38;5;241;43m2014\u001b[39;49m\u001b[43m,\u001b[49m\u001b[43m \u001b[49m\u001b[38;5;241;43m2005\u001b[39;49m\u001b[43m,\u001b[49m\u001b[43m \u001b[49m\u001b[38;5;241;43m2010\u001b[39;49m\u001b[43m,\u001b[49m\u001b[43m \u001b[49m\u001b[38;5;241;43m2003\u001b[39;49m\u001b[43m]\u001b[49m\u001b[43m}\u001b[49m\u001b[43m)\u001b[49m\n\u001b[0;32m      7\u001b[0m \u001b[38;5;66;03m# Create a pandas DataFrame from a pre-existing dictionary\u001b[39;00m\n\u001b[0;32m      8\u001b[0m movies \u001b[38;5;241m=\u001b[39m {\u001b[38;5;124m'\u001b[39m\u001b[38;5;124mName\u001b[39m\u001b[38;5;124m'\u001b[39m: [\u001b[38;5;124m\"\u001b[39m\u001b[38;5;124mInterstellar\u001b[39m\u001b[38;5;124m\"\u001b[39m, \u001b[38;5;124m\"\u001b[39m\u001b[38;5;124mPride and Prejudice\u001b[39m\u001b[38;5;124m\"\u001b[39m, \u001b[38;5;124m\"\u001b[39m\u001b[38;5;124mInception\u001b[39m\u001b[38;5;124m\"\u001b[39m, \u001b[38;5;124m\"\u001b[39m\u001b[38;5;124mBarbie\u001b[39m\u001b[38;5;124m\"\u001b[39m],\u001b[38;5;124m'\u001b[39m\u001b[38;5;124mRelease\u001b[39m\u001b[38;5;124m'\u001b[39m: [\u001b[38;5;241m2014\u001b[39m, \u001b[38;5;241m2005\u001b[39m, \u001b[38;5;241m2010\u001b[39m, \u001b[38;5;241m2003\u001b[39m]}\n",
      "\u001b[1;31mTypeError\u001b[0m: DataFrame.__init__() got an unexpected keyword argument 'movies'"
     ]
    }
   ],
   "source": [
    "# import pandas\n",
    "import pandas as pd\n",
    "\n",
    "# Create a pandas DataFrame by providing a dictionary\n",
    "movie_dictionary_dataframe = pd.DataFrame(movies = {'Name': [\"Interstellar\", \"Pride and Prejudice\", \"Inception\", \"Barbie\"],'Release': [2014, 2005, 2010, 2003]})\n",
    "\n",
    "# Create a pandas DataFrame from a pre-existing dictionary\n",
    "movies = {'Name': [\"Interstellar\", \"Pride and Prejudice\", \"Inception\", \"Barbie\"],'Release': [2014, 2005, 2010, 2003]}\n",
    "\n",
    "dataframe_from_movies_dictionary = pd.DataFrame(movies)\n",
    "\n",
    "# Adding print statements\n",
    "print(dataframe_from_movies_dictionary)"
   ]
  },
  {
   "cell_type": "markdown",
   "id": "be230927-da7f-4fd9-8205-bc204acd873a",
   "metadata": {},
   "source": [
    "## Using a Tuple"
   ]
  },
  {
   "cell_type": "code",
   "execution_count": null,
   "id": "205cabc1-ba35-42cf-8242-032521711533",
   "metadata": {},
   "outputs": [],
   "source": [
    "# import pandas\n",
    "import pandas as pd\n",
    "\n",
    "# Create a pandas DataFrame by providing a tuple\n",
    "movies_tuple_dataframe = pd.DataFrame((\"Interstellar\", \"Pride and Prejudice\"), (\"Inception\", \"Barbie\"))\n",
    "\n",
    "# Create a pandas DataFrame by providing a pre-existing tuple\n",
    "movies_data = ((\"Interstellar\", \"Pride and Prejudice\"), (\"Inception\", \"Barbie\"))\n",
    "\n",
    "dataframe_from_existing_tuple = pd.DataFrame(movies_data)\n",
    "\n",
    "# Adding print statements\n",
    "print(dataframe_from_existing_tuple)"
   ]
  },
  {
   "cell_type": "markdown",
   "id": "23bafa85-c0a7-4f87-81f0-a850df588407",
   "metadata": {},
   "source": [
    "# Create a DataFrame from Series"
   ]
  },
  {
   "cell_type": "code",
   "execution_count": null,
   "id": "3c4bea71-5b2b-4656-abe7-3d458a4ae43d",
   "metadata": {},
   "outputs": [],
   "source": [
    "import pandas as pd\n",
    "\n",
    "movies = pd.Series([\"Interstellar\", \"Pride and Prejudice\", \"Inception\", \"Barbie\"], index=['1', '2', '3', '4'], name = 'movies')\n",
    "\n",
    "genres = pd.Series([\"Science Fiction\", \"Novel\", \"Science Fiction\", \"Comedy\"], index=['1', '2', '3', '4'], name='genres')\n",
    "\n",
    "# Using the two series above we can concatenate the two together in order to create a DataFrame.\n",
    "\n",
    "movies_genres_dataframe = pd.concat([movies, genres], axis=1) # axis 1 specifies that the operations will be performed down each column\n",
    "\n",
    "# Adding print statement\n",
    "print(movies_genres_dataframe)"
   ]
  },
  {
   "cell_type": "markdown",
   "id": "4c2c832d-4da9-47e0-be3b-2aee1fa695c9",
   "metadata": {},
   "source": [
    "## Column Data"
   ]
  },
  {
   "cell_type": "code",
   "execution_count": null,
   "id": "04099cb9-25bf-4ba5-ae37-4bf490acf006",
   "metadata": {},
   "outputs": [],
   "source": [
    "# import pandas\n",
    "import pandas as pd\n",
    "\n",
    "movies = {'Name': [\"Interstellar\", \"Pride and Prejudice\", \"Inception\", \"Barbie\"],'Release': [2014, 2005, 2010, 2003]}\n",
    "\n",
    "movies_dataframe = pd.DataFrame(movies)\n",
    "\n",
    "movie_names = movies_dataframe[\"Name\"]\n",
    "\n",
    "# Adding print statements\n",
    "print(movies_dataframe)\n",
    "print(movie_names)"
   ]
  },
  {
   "cell_type": "markdown",
   "id": "b8d067b0-ffd5-40f6-aa4e-97cf6ba19424",
   "metadata": {},
   "source": [
    "## Multiple Column Data"
   ]
  },
  {
   "cell_type": "code",
   "execution_count": null,
   "id": "ae017305-063c-4037-9595-59b6cf9016f2",
   "metadata": {},
   "outputs": [],
   "source": [
    "# import pandas\n",
    "import pandas as pd\n",
    "\n",
    "movies = {'Name': [\"Interstellar\", \"Pride and Prejudice\", \"Inception\", \"Barbie\"],'Release': [2014, 2005, 2010, 2003], 'Genre': [\"Science Fiction\", \"Novel\", \"Science Fiction\", \"Comedy\"]}\n",
    "\n",
    "movies_dataframe = pd.DataFrame(movies)\n",
    "\n",
    "# Pull aside the Name and Genre columns from the movies_dataframe\n",
    "movie_names_and_genres = movies_dataframe[[\"Name\", \"Genre\"]]\n",
    "\n",
    "# Adding print statements\n",
    "print(movies_dataframe)\n",
    "print(movie_names_and_genres)"
   ]
  }
 ],
 "metadata": {
  "kernelspec": {
   "display_name": "Python 3 (ipykernel)",
   "language": "python",
   "name": "python3"
  },
  "language_info": {
   "codemirror_mode": {
    "name": "ipython",
    "version": 3
   },
   "file_extension": ".py",
   "mimetype": "text/x-python",
   "name": "python",
   "nbconvert_exporter": "python",
   "pygments_lexer": "ipython3",
   "version": "3.12.5"
  }
 },
 "nbformat": 4,
 "nbformat_minor": 5
}
